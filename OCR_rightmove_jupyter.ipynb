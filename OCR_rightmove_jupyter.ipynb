{
 "cells": [
  {
   "cell_type": "code",
   "execution_count": 1,
   "id": "4edba783",
   "metadata": {},
   "outputs": [],
   "source": [
    "# import all of the necessary libraries\n",
    "import easyocr\n",
    "import cv2"
   ]
  },
  {
   "cell_type": "code",
   "execution_count": null,
   "id": "13f745c2",
   "metadata": {},
   "outputs": [],
   "source": [
    "def size_floorplan(floorplan):\n",
    "    \"\"\"Obtain the size data from the floorplan\"\"\"\n",
    "    reader = easyocr.Reader(['en']) # GPU=false taken out for now\n",
    "    result = reader.readtext(floorplan)\n",
    "    \n",
    "    scraped_text = ''\n",
    "    for i in result:\n",
    "        scraped_text += i[1]\n",
    "        scraped_text += \",\"\n",
    "    text_list = scraped_text.split(\",\")\n",
    "    \n",
    "    m_patterns = re.compile(r\"[+-]? *((?:\\d+(?:\\.\\d*)?|\\.\\d+)(?:[eE][+-]?\\d+)?)\\s*(square meters|square metres|square meter|square metre|square m|square mt|sqmt|sq mt|sq.mt|sq. mt|sqm|sq m|sq.m|sq. m|meters2|metres2|meter2|metre2|mt2|m2)\", re.IGNORECASE)\n",
    "    f_patterns = re.compile(r\"[+-]? *((?:\\d+(?:\\.\\d*)?|\\.\\d+)(?:[eE][+-]?\\d+)?)\\s*(square feet|square ft|square f|sqft|sq ft|sq.ft|sq. ft|sqf|sq f|sq.f|sq. f|feet2|ft2|f2)\", re.IGNORECASE)\n",
    "    house_size = []\n",
    "    for x in text_list:\n",
    "        for match in re.finditer(m_patterns, x):\n",
    "            #print('%s : %s' % (match.groups()))\n",
    "            house_size.append(list(match.groups()))\n",
    "        for match in re.finditer(f_patterns, x):\n",
    "            #print('%s : %s' % (match.groups())) \n",
    "            house_size.append(list(match.groups()))\n",
    "    for a in house_size:\n",
    "        try:\n",
    "            a[0] = int(a[0])\n",
    "        except ValueError:\n",
    "            a[0] = float(a[0])\n",
    "            \n",
    "    # then here you could find the\n",
    "    house_size = dict((house_size))\n",
    "    return house_size\n"
   ]
  },
  {
   "cell_type": "code",
   "execution_count": null,
   "id": "39da38c9",
   "metadata": {},
   "outputs": [],
   "source": [
    "image = \"https://media.rightmove.co.uk/72k/71134/111198221/71134_30837396_FLP_00_0002.jpeg\"\n",
    "reader = easyocr.Reader(['en'], gpu=False)\n",
    "result = reader.readtext(image)\n",
    "\n",
    "scraped_text = ''\n",
    "for i in result:\n",
    "    scraped_text += i[1]\n",
    "    scraped_text += \",\"\n",
    "    \n",
    "text = scraped_text.split(\",\")\n",
    "\n",
    "r = size_floorplan('https://media.rightmove.co.uk/77k/76792/48779142/76792_HAM547-t-3762_FLP_01_0000.jpg')\n",
    "\n",
    "# Code to take the largest returned value from \n",
    "amount = 0\n",
    "for size in r.keys():\n",
    "    if size > amount:\n",
    "        amount = size\n",
    "largest_size = {}\n",
    "largest_size[amount] = r[amount]\n",
    "largest_size[amount] = largest_size[amount].lower()\n",
    "print(largest_size)\n",
    "\n",
    "metre_values = [\"square meters\", \"square metres\", \"square meter\", \"square metre\", \"square m\", \"square mt\", \"sqmt\", \"sq mt\",\n",
    "                \"sq.mt\", \"sq. mt\", \"sqm\", \"sq m\", \"sq.m\", \"sq. m\", \"meters2\", \"metres2\", \"meter2\", \"metre2\", \"mt2\", \"m2\"]\n",
    "feet_values = [\"square feet\",\"square ft\",\"square f\",\"sqft\",\"sq ft\",\"sq.ft\",\"sq. ft\",\"sqf\",\"sq f\",\"sq.f\",\"sq. f\",\"feet2\",\n",
    "               \"ft2\",\"f2\"]\n",
    "\n",
    "if largest_size[amount] in metre_values:\n",
    "    largest_size[amount] = \"sq m\"\n",
    "elif largest_size[amount] in feet_values:\n",
    "    largest_size[amount] = \"sq ft\"\n",
    "print(largest_size)"
   ]
  },
  {
   "cell_type": "code",
   "execution_count": null,
   "id": "5f56bec9",
   "metadata": {},
   "outputs": [],
   "source": []
  }
 ],
 "metadata": {
  "kernelspec": {
   "display_name": "Python 3 (ipykernel)",
   "language": "python",
   "name": "python3"
  },
  "language_info": {
   "codemirror_mode": {
    "name": "ipython",
    "version": 3
   },
   "file_extension": ".py",
   "mimetype": "text/x-python",
   "name": "python",
   "nbconvert_exporter": "python",
   "pygments_lexer": "ipython3",
   "version": "3.9.5"
  }
 },
 "nbformat": 4,
 "nbformat_minor": 5
}
